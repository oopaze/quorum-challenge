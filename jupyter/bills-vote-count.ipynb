{
 "cells": [
  {
   "cell_type": "code",
   "execution_count": 1,
   "id": "bed356ae",
   "metadata": {},
   "outputs": [],
   "source": [
    "import pandas as pd"
   ]
  },
  {
   "cell_type": "code",
   "execution_count": 2,
   "id": "9ebd848b",
   "metadata": {},
   "outputs": [],
   "source": [
    "SUPPORT_VOTE_FLAG = 1\n",
    "OPPOSE_VOTE_FLAG = 2"
   ]
  },
  {
   "cell_type": "code",
   "execution_count": 3,
   "id": "dd621ad2",
   "metadata": {},
   "outputs": [],
   "source": [
    "bills = pd.read_csv(\"../input-files/bills.csv\") \n",
    "legislators = pd.read_csv(\"../input-files/legislators.csv\") \n",
    "vote_results = pd.read_csv(\"../input-files/vote_results.csv\")\n",
    "votes = pd.read_csv(\"../input-files/votes.csv\") "
   ]
  },
  {
   "cell_type": "code",
   "execution_count": 4,
   "id": "7353a495",
   "metadata": {},
   "outputs": [],
   "source": [
    "def get_sponsor_name(sponsor_id):\n",
    "    if sponsor_id in legislators[\"id\"].values:\n",
    "        return legislators[legislators[\"id\"] == sponsor_id].iloc[0][\"name\"]\n",
    "    return \"Unknown\"\n",
    "\n",
    "bills_votes = bills.copy()\n",
    "bills_votes[\"primary_sponsor\"] = bills_votes[\"sponsor_id\"].apply(get_sponsor_name)\n",
    "del bills_votes[\"sponsor_id\"]\n"
   ]
  },
  {
   "cell_type": "code",
   "execution_count": 5,
   "id": "c77e66af",
   "metadata": {},
   "outputs": [],
   "source": [
    "suported = []\n",
    "opposed = []\n",
    "\n",
    "for bill_id in bills_votes[\"id\"]:\n",
    "    if bill_id not in votes[\"bill_id\"].values:\n",
    "        continue\n",
    "        \n",
    "        \n",
    "    vote_id = votes[votes[\"bill_id\"] == bill_id].iloc[0][\"id\"]\n",
    "\n",
    "    same_vote_id = vote_results[\"vote_id\"] == vote_id\n",
    "    is_supporting = vote_results[\"vote_type\"] == SUPPORT_VOTE_FLAG\n",
    "    is_opposing = vote_results[\"vote_type\"] == OPPOSE_VOTE_FLAG\n",
    "    \n",
    "    support_votes = vote_results[same_vote_id & is_supporting]\n",
    "    oppose_votes = vote_results[same_vote_id & is_opposing]  \n",
    "    \n",
    "    suported.append(len(support_votes))\n",
    "    opposed.append(len(oppose_votes))\n",
    "    \n",
    "bills_votes[\"supporter_count\"] = suported\n",
    "bills_votes[\"opposer_count\"] = opposed"
   ]
  },
  {
   "cell_type": "code",
   "execution_count": 6,
   "id": "234ff2ee",
   "metadata": {},
   "outputs": [
    {
     "data": {
      "text/html": [
       "<div>\n",
       "<style scoped>\n",
       "    .dataframe tbody tr th:only-of-type {\n",
       "        vertical-align: middle;\n",
       "    }\n",
       "\n",
       "    .dataframe tbody tr th {\n",
       "        vertical-align: top;\n",
       "    }\n",
       "\n",
       "    .dataframe thead th {\n",
       "        text-align: right;\n",
       "    }\n",
       "</style>\n",
       "<table border=\"1\" class=\"dataframe\">\n",
       "  <thead>\n",
       "    <tr style=\"text-align: right;\">\n",
       "      <th></th>\n",
       "      <th>id</th>\n",
       "      <th>title</th>\n",
       "      <th>primary_sponsor</th>\n",
       "      <th>supporter_count</th>\n",
       "      <th>opposer_count</th>\n",
       "    </tr>\n",
       "  </thead>\n",
       "  <tbody>\n",
       "    <tr>\n",
       "      <th>0</th>\n",
       "      <td>2952375</td>\n",
       "      <td>H.R. 5376: Build Back Better Act</td>\n",
       "      <td>Rep. John Yarmuth (D-KY-3)</td>\n",
       "      <td>6</td>\n",
       "      <td>13</td>\n",
       "    </tr>\n",
       "    <tr>\n",
       "      <th>1</th>\n",
       "      <td>2900994</td>\n",
       "      <td>H.R. 3684: Infrastructure Investment and Jobs Act</td>\n",
       "      <td>Unknown</td>\n",
       "      <td>13</td>\n",
       "      <td>6</td>\n",
       "    </tr>\n",
       "  </tbody>\n",
       "</table>\n",
       "</div>"
      ],
      "text/plain": [
       "        id                                              title  \\\n",
       "0  2952375                   H.R. 5376: Build Back Better Act   \n",
       "1  2900994  H.R. 3684: Infrastructure Investment and Jobs Act   \n",
       "\n",
       "              primary_sponsor  supporter_count  opposer_count  \n",
       "0  Rep. John Yarmuth (D-KY-3)                6             13  \n",
       "1                     Unknown               13              6  "
      ]
     },
     "execution_count": 6,
     "metadata": {},
     "output_type": "execute_result"
    }
   ],
   "source": [
    "bills_votes.head()"
   ]
  }
 ],
 "metadata": {
  "kernelspec": {
   "display_name": "Python 3 (ipykernel)",
   "language": "python",
   "name": "python3"
  },
  "language_info": {
   "codemirror_mode": {
    "name": "ipython",
    "version": 3
   },
   "file_extension": ".py",
   "mimetype": "text/x-python",
   "name": "python",
   "nbconvert_exporter": "python",
   "pygments_lexer": "ipython3",
   "version": "3.8.16"
  }
 },
 "nbformat": 4,
 "nbformat_minor": 5
}
