{
 "cells": [
  {
   "cell_type": "code",
   "execution_count": 1,
   "id": "7606a6ca",
   "metadata": {},
   "outputs": [],
   "source": [
    "import pandas as pd"
   ]
  },
  {
   "cell_type": "code",
   "execution_count": 2,
   "id": "6dce8e59",
   "metadata": {},
   "outputs": [],
   "source": [
    "SUPPORT_VOTE_FLAG = 1\n",
    "OPPOSE_VOTE_FLAG = 2"
   ]
  },
  {
   "cell_type": "code",
   "execution_count": 3,
   "id": "5f49d6c0",
   "metadata": {},
   "outputs": [],
   "source": [
    "bills = pd.read_csv(\"../input-files/bills.csv\") \n",
    "legislators = pd.read_csv(\"../input-files/legislators.csv\") \n",
    "vote_results = pd.read_csv(\"../input-files/vote_results.csv\")\n",
    "votes = pd.read_csv(\"../input-files/votes.csv\") "
   ]
  },
  {
   "cell_type": "code",
   "execution_count": 4,
   "id": "e2ae898b",
   "metadata": {},
   "outputs": [],
   "source": [
    "suported = []\n",
    "opposed = []\n",
    "\n",
    "for legislator_id in legislators[\"id\"]:\n",
    "    is_same_legislator = vote_results[\"legislator_id\"] == legislator_id\n",
    "\n",
    "    is_supporting = vote_results[\"vote_type\"] == SUPPORT_VOTE_FLAG\n",
    "    is_opposing = vote_results[\"vote_type\"] == OPPOSE_VOTE_FLAG\n",
    "\n",
    "    support_votes = vote_results[is_same_legislator & is_supporting]\n",
    "    oppose_votes = vote_results[is_same_legislator & is_opposing]\n",
    "\n",
    "    suported.append(len(support_votes))\n",
    "    opposed.append(len(oppose_votes))\n",
    "    \n",
    "legislators_with_votes = legislators.copy()\n",
    "\n",
    "legislators_with_votes[\"num_supported_bills\"] = suported\n",
    "legislators_with_votes[\"num_opposed_bills\"] = opposed"
   ]
  },
  {
   "cell_type": "code",
   "execution_count": 5,
   "id": "f09d9172",
   "metadata": {},
   "outputs": [
    {
     "data": {
      "text/html": [
       "<div>\n",
       "<style scoped>\n",
       "    .dataframe tbody tr th:only-of-type {\n",
       "        vertical-align: middle;\n",
       "    }\n",
       "\n",
       "    .dataframe tbody tr th {\n",
       "        vertical-align: top;\n",
       "    }\n",
       "\n",
       "    .dataframe thead th {\n",
       "        text-align: right;\n",
       "    }\n",
       "</style>\n",
       "<table border=\"1\" class=\"dataframe\">\n",
       "  <thead>\n",
       "    <tr style=\"text-align: right;\">\n",
       "      <th></th>\n",
       "      <th>id</th>\n",
       "      <th>name</th>\n",
       "      <th>num_supported_bills</th>\n",
       "      <th>num_opposed_bills</th>\n",
       "    </tr>\n",
       "  </thead>\n",
       "  <tbody>\n",
       "    <tr>\n",
       "      <th>0</th>\n",
       "      <td>904789</td>\n",
       "      <td>Rep. Don Bacon (R-NE-2)</td>\n",
       "      <td>1</td>\n",
       "      <td>1</td>\n",
       "    </tr>\n",
       "    <tr>\n",
       "      <th>1</th>\n",
       "      <td>1603850</td>\n",
       "      <td>Rep. Jamaal Bowman (D-NY-16)</td>\n",
       "      <td>1</td>\n",
       "      <td>1</td>\n",
       "    </tr>\n",
       "    <tr>\n",
       "      <th>2</th>\n",
       "      <td>1852382</td>\n",
       "      <td>Rep. Cori Bush (D-MO-1)</td>\n",
       "      <td>1</td>\n",
       "      <td>1</td>\n",
       "    </tr>\n",
       "    <tr>\n",
       "      <th>3</th>\n",
       "      <td>904796</td>\n",
       "      <td>Rep. Brian Fitzpatrick (R-PA-1)</td>\n",
       "      <td>1</td>\n",
       "      <td>1</td>\n",
       "    </tr>\n",
       "    <tr>\n",
       "      <th>4</th>\n",
       "      <td>15318</td>\n",
       "      <td>Rep. Andrew Garbarino (R-NY-2)</td>\n",
       "      <td>1</td>\n",
       "      <td>1</td>\n",
       "    </tr>\n",
       "  </tbody>\n",
       "</table>\n",
       "</div>"
      ],
      "text/plain": [
       "        id                             name  num_supported_bills  \\\n",
       "0   904789          Rep. Don Bacon (R-NE-2)                    1   \n",
       "1  1603850     Rep. Jamaal Bowman (D-NY-16)                    1   \n",
       "2  1852382          Rep. Cori Bush (D-MO-1)                    1   \n",
       "3   904796  Rep. Brian Fitzpatrick (R-PA-1)                    1   \n",
       "4    15318   Rep. Andrew Garbarino (R-NY-2)                    1   \n",
       "\n",
       "   num_opposed_bills  \n",
       "0                  1  \n",
       "1                  1  \n",
       "2                  1  \n",
       "3                  1  \n",
       "4                  1  "
      ]
     },
     "execution_count": 5,
     "metadata": {},
     "output_type": "execute_result"
    }
   ],
   "source": [
    "legislators_with_votes.head()"
   ]
  },
  {
   "cell_type": "code",
   "execution_count": null,
   "id": "f6f7e0fe",
   "metadata": {},
   "outputs": [],
   "source": []
  }
 ],
 "metadata": {
  "kernelspec": {
   "display_name": "Python 3 (ipykernel)",
   "language": "python",
   "name": "python3"
  },
  "language_info": {
   "codemirror_mode": {
    "name": "ipython",
    "version": 3
   },
   "file_extension": ".py",
   "mimetype": "text/x-python",
   "name": "python",
   "nbconvert_exporter": "python",
   "pygments_lexer": "ipython3",
   "version": "3.8.16"
  }
 },
 "nbformat": 4,
 "nbformat_minor": 5
}
