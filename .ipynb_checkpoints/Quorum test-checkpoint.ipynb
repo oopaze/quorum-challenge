{
 "cells": [
  {
   "cell_type": "code",
   "execution_count": 23,
   "id": "b2411db8",
   "metadata": {},
   "outputs": [],
   "source": [
    "import pandas as pd"
   ]
  },
  {
   "cell_type": "code",
   "execution_count": 24,
   "id": "2e9ac111",
   "metadata": {},
   "outputs": [],
   "source": [
    "SUPPORT_VOTE_FLAG = 1\n",
    "OPPOSE_VOTE_FLAG = 2"
   ]
  },
  {
   "cell_type": "code",
   "execution_count": 25,
   "id": "4c7d76bc",
   "metadata": {},
   "outputs": [],
   "source": [
    "bills = pd.read_csv(\"./files/bills.csv\") \n",
    "legislators = pd.read_csv(\"./files/legislators.csv\") \n",
    "vote_results = pd.read_csv(\"./files/vote_results.csv\")\n",
    "votes = pd.read_csv(\"./files/votes.csv\") "
   ]
  },
  {
   "cell_type": "code",
   "execution_count": 26,
   "id": "c967358c",
   "metadata": {},
   "outputs": [
    {
     "data": {
      "text/html": [
       "<div>\n",
       "<style scoped>\n",
       "    .dataframe tbody tr th:only-of-type {\n",
       "        vertical-align: middle;\n",
       "    }\n",
       "\n",
       "    .dataframe tbody tr th {\n",
       "        vertical-align: top;\n",
       "    }\n",
       "\n",
       "    .dataframe thead th {\n",
       "        text-align: right;\n",
       "    }\n",
       "</style>\n",
       "<table border=\"1\" class=\"dataframe\">\n",
       "  <thead>\n",
       "    <tr style=\"text-align: right;\">\n",
       "      <th></th>\n",
       "      <th>id</th>\n",
       "      <th>name</th>\n",
       "    </tr>\n",
       "  </thead>\n",
       "  <tbody>\n",
       "    <tr>\n",
       "      <th>0</th>\n",
       "      <td>904789</td>\n",
       "      <td>Rep. Don Bacon (R-NE-2)</td>\n",
       "    </tr>\n",
       "    <tr>\n",
       "      <th>1</th>\n",
       "      <td>1603850</td>\n",
       "      <td>Rep. Jamaal Bowman (D-NY-16)</td>\n",
       "    </tr>\n",
       "    <tr>\n",
       "      <th>2</th>\n",
       "      <td>1852382</td>\n",
       "      <td>Rep. Cori Bush (D-MO-1)</td>\n",
       "    </tr>\n",
       "    <tr>\n",
       "      <th>3</th>\n",
       "      <td>904796</td>\n",
       "      <td>Rep. Brian Fitzpatrick (R-PA-1)</td>\n",
       "    </tr>\n",
       "    <tr>\n",
       "      <th>4</th>\n",
       "      <td>15318</td>\n",
       "      <td>Rep. Andrew Garbarino (R-NY-2)</td>\n",
       "    </tr>\n",
       "  </tbody>\n",
       "</table>\n",
       "</div>"
      ],
      "text/plain": [
       "        id                             name\n",
       "0   904789          Rep. Don Bacon (R-NE-2)\n",
       "1  1603850     Rep. Jamaal Bowman (D-NY-16)\n",
       "2  1852382          Rep. Cori Bush (D-MO-1)\n",
       "3   904796  Rep. Brian Fitzpatrick (R-PA-1)\n",
       "4    15318   Rep. Andrew Garbarino (R-NY-2)"
      ]
     },
     "execution_count": 26,
     "metadata": {},
     "output_type": "execute_result"
    }
   ],
   "source": [
    "legislators.head()"
   ]
  },
  {
   "cell_type": "code",
   "execution_count": 30,
   "id": "b1a9ab33",
   "metadata": {},
   "outputs": [
    {
     "data": {
      "text/html": [
       "<div>\n",
       "<style scoped>\n",
       "    .dataframe tbody tr th:only-of-type {\n",
       "        vertical-align: middle;\n",
       "    }\n",
       "\n",
       "    .dataframe tbody tr th {\n",
       "        vertical-align: top;\n",
       "    }\n",
       "\n",
       "    .dataframe thead th {\n",
       "        text-align: right;\n",
       "    }\n",
       "</style>\n",
       "<table border=\"1\" class=\"dataframe\">\n",
       "  <thead>\n",
       "    <tr style=\"text-align: right;\">\n",
       "      <th></th>\n",
       "      <th>id</th>\n",
       "      <th>legislator_id</th>\n",
       "      <th>vote_id</th>\n",
       "      <th>vote_type</th>\n",
       "    </tr>\n",
       "  </thead>\n",
       "  <tbody>\n",
       "    <tr>\n",
       "      <th>0</th>\n",
       "      <td>92516784</td>\n",
       "      <td>400440</td>\n",
       "      <td>3321166</td>\n",
       "      <td>2</td>\n",
       "    </tr>\n",
       "    <tr>\n",
       "      <th>1</th>\n",
       "      <td>92516784</td>\n",
       "      <td>400440</td>\n",
       "      <td>3321166</td>\n",
       "      <td>2</td>\n",
       "    </tr>\n",
       "    <tr>\n",
       "      <th>2</th>\n",
       "      <td>92516770</td>\n",
       "      <td>17941</td>\n",
       "      <td>3321166</td>\n",
       "      <td>2</td>\n",
       "    </tr>\n",
       "    <tr>\n",
       "      <th>3</th>\n",
       "      <td>92516768</td>\n",
       "      <td>400414</td>\n",
       "      <td>3321166</td>\n",
       "      <td>2</td>\n",
       "    </tr>\n",
       "    <tr>\n",
       "      <th>4</th>\n",
       "      <td>92516753</td>\n",
       "      <td>400380</td>\n",
       "      <td>3321166</td>\n",
       "      <td>2</td>\n",
       "    </tr>\n",
       "  </tbody>\n",
       "</table>\n",
       "</div>"
      ],
      "text/plain": [
       "         id  legislator_id  vote_id  vote_type\n",
       "0  92516784         400440  3321166          2\n",
       "1  92516784         400440  3321166          2\n",
       "2  92516770          17941  3321166          2\n",
       "3  92516768         400414  3321166          2\n",
       "4  92516753         400380  3321166          2"
      ]
     },
     "execution_count": 30,
     "metadata": {},
     "output_type": "execute_result"
    }
   ],
   "source": [
    "vote_results.head()"
   ]
  },
  {
   "cell_type": "code",
   "execution_count": 28,
   "id": "06665bc7",
   "metadata": {},
   "outputs": [],
   "source": [
    "suported = []\n",
    "opposed = []\n",
    "\n",
    "for legislator_id in legislators[\"id\"]:\n",
    "    support_votes = len(vote_results[\n",
    "        (vote_results[\"legislator_id\"] == legislator_id)\n",
    "        & (vote_results[\"vote_type\"] == SUPPORT_VOTE_FLAG)\n",
    "    ])\n",
    "\n",
    "    oppose_votes = len(vote_results[\n",
    "        (vote_results[\"legislator_id\"] == legislator_id)\n",
    "        & (vote_results[\"vote_type\"] == OPPOSE_VOTE_FLAG)\n",
    "    ])\n",
    "        \n",
    "    suported.append(support_votes)\n",
    "    opposed.append(oppose_votes)\n",
    "    \n",
    "legislators_with_votes = legislators.copy()\n",
    "\n",
    "legislators_with_votes[\"suported_bills\"] = suported\n",
    "legislators_with_votes[\"opposed_bills\"] = opposed"
   ]
  },
  {
   "cell_type": "code",
   "execution_count": 31,
   "id": "a4b71d93",
   "metadata": {},
   "outputs": [
    {
     "data": {
      "text/html": [
       "<div>\n",
       "<style scoped>\n",
       "    .dataframe tbody tr th:only-of-type {\n",
       "        vertical-align: middle;\n",
       "    }\n",
       "\n",
       "    .dataframe tbody tr th {\n",
       "        vertical-align: top;\n",
       "    }\n",
       "\n",
       "    .dataframe thead th {\n",
       "        text-align: right;\n",
       "    }\n",
       "</style>\n",
       "<table border=\"1\" class=\"dataframe\">\n",
       "  <thead>\n",
       "    <tr style=\"text-align: right;\">\n",
       "      <th></th>\n",
       "      <th>id</th>\n",
       "      <th>name</th>\n",
       "      <th>suported_bills</th>\n",
       "      <th>opposed_bills</th>\n",
       "    </tr>\n",
       "  </thead>\n",
       "  <tbody>\n",
       "    <tr>\n",
       "      <th>0</th>\n",
       "      <td>904789</td>\n",
       "      <td>Rep. Don Bacon (R-NE-2)</td>\n",
       "      <td>1</td>\n",
       "      <td>1</td>\n",
       "    </tr>\n",
       "    <tr>\n",
       "      <th>1</th>\n",
       "      <td>1603850</td>\n",
       "      <td>Rep. Jamaal Bowman (D-NY-16)</td>\n",
       "      <td>1</td>\n",
       "      <td>1</td>\n",
       "    </tr>\n",
       "    <tr>\n",
       "      <th>2</th>\n",
       "      <td>1852382</td>\n",
       "      <td>Rep. Cori Bush (D-MO-1)</td>\n",
       "      <td>1</td>\n",
       "      <td>1</td>\n",
       "    </tr>\n",
       "    <tr>\n",
       "      <th>3</th>\n",
       "      <td>904796</td>\n",
       "      <td>Rep. Brian Fitzpatrick (R-PA-1)</td>\n",
       "      <td>1</td>\n",
       "      <td>1</td>\n",
       "    </tr>\n",
       "    <tr>\n",
       "      <th>4</th>\n",
       "      <td>15318</td>\n",
       "      <td>Rep. Andrew Garbarino (R-NY-2)</td>\n",
       "      <td>1</td>\n",
       "      <td>1</td>\n",
       "    </tr>\n",
       "  </tbody>\n",
       "</table>\n",
       "</div>"
      ],
      "text/plain": [
       "        id                             name  suported_bills  opposed_bills\n",
       "0   904789          Rep. Don Bacon (R-NE-2)               1              1\n",
       "1  1603850     Rep. Jamaal Bowman (D-NY-16)               1              1\n",
       "2  1852382          Rep. Cori Bush (D-MO-1)               1              1\n",
       "3   904796  Rep. Brian Fitzpatrick (R-PA-1)               1              1\n",
       "4    15318   Rep. Andrew Garbarino (R-NY-2)               1              1"
      ]
     },
     "execution_count": 31,
     "metadata": {},
     "output_type": "execute_result"
    }
   ],
   "source": [
    "legislators_with_votes.head()"
   ]
  },
  {
   "cell_type": "code",
   "execution_count": null,
   "id": "405ff2f8",
   "metadata": {},
   "outputs": [],
   "source": []
  }
 ],
 "metadata": {
  "kernelspec": {
   "display_name": "Python 3 (ipykernel)",
   "language": "python",
   "name": "python3"
  },
  "language_info": {
   "codemirror_mode": {
    "name": "ipython",
    "version": 3
   },
   "file_extension": ".py",
   "mimetype": "text/x-python",
   "name": "python",
   "nbconvert_exporter": "python",
   "pygments_lexer": "ipython3",
   "version": "3.8.16"
  }
 },
 "nbformat": 4,
 "nbformat_minor": 5
}
