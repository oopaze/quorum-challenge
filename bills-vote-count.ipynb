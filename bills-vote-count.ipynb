{
 "cells": [
  {
   "cell_type": "code",
   "execution_count": 1,
   "id": "bed356ae",
   "metadata": {},
   "outputs": [],
   "source": [
    "import pandas as pd"
   ]
  },
  {
   "cell_type": "code",
   "execution_count": 2,
   "id": "9ebd848b",
   "metadata": {},
   "outputs": [],
   "source": [
    "SUPPORT_VOTE_FLAG = 1\n",
    "OPPOSE_VOTE_FLAG = 2"
   ]
  },
  {
   "cell_type": "code",
   "execution_count": 3,
   "id": "dd621ad2",
   "metadata": {},
   "outputs": [],
   "source": [
    "bills = pd.read_csv(\"./files/bills.csv\") \n",
    "legislators = pd.read_csv(\"./files/legislators.csv\") \n",
    "vote_results = pd.read_csv(\"./files/vote_results.csv\")\n",
    "votes = pd.read_csv(\"./files/votes.csv\") "
   ]
  },
  {
   "cell_type": "code",
   "execution_count": 4,
   "id": "6aa78f72",
   "metadata": {},
   "outputs": [
    {
     "data": {
      "text/html": [
       "<div>\n",
       "<style scoped>\n",
       "    .dataframe tbody tr th:only-of-type {\n",
       "        vertical-align: middle;\n",
       "    }\n",
       "\n",
       "    .dataframe tbody tr th {\n",
       "        vertical-align: top;\n",
       "    }\n",
       "\n",
       "    .dataframe thead th {\n",
       "        text-align: right;\n",
       "    }\n",
       "</style>\n",
       "<table border=\"1\" class=\"dataframe\">\n",
       "  <thead>\n",
       "    <tr style=\"text-align: right;\">\n",
       "      <th></th>\n",
       "      <th>id</th>\n",
       "      <th>name</th>\n",
       "    </tr>\n",
       "  </thead>\n",
       "  <tbody>\n",
       "    <tr>\n",
       "      <th>0</th>\n",
       "      <td>904789</td>\n",
       "      <td>Rep. Don Bacon (R-NE-2)</td>\n",
       "    </tr>\n",
       "    <tr>\n",
       "      <th>1</th>\n",
       "      <td>1603850</td>\n",
       "      <td>Rep. Jamaal Bowman (D-NY-16)</td>\n",
       "    </tr>\n",
       "    <tr>\n",
       "      <th>2</th>\n",
       "      <td>1852382</td>\n",
       "      <td>Rep. Cori Bush (D-MO-1)</td>\n",
       "    </tr>\n",
       "    <tr>\n",
       "      <th>3</th>\n",
       "      <td>904796</td>\n",
       "      <td>Rep. Brian Fitzpatrick (R-PA-1)</td>\n",
       "    </tr>\n",
       "    <tr>\n",
       "      <th>4</th>\n",
       "      <td>15318</td>\n",
       "      <td>Rep. Andrew Garbarino (R-NY-2)</td>\n",
       "    </tr>\n",
       "  </tbody>\n",
       "</table>\n",
       "</div>"
      ],
      "text/plain": [
       "        id                             name\n",
       "0   904789          Rep. Don Bacon (R-NE-2)\n",
       "1  1603850     Rep. Jamaal Bowman (D-NY-16)\n",
       "2  1852382          Rep. Cori Bush (D-MO-1)\n",
       "3   904796  Rep. Brian Fitzpatrick (R-PA-1)\n",
       "4    15318   Rep. Andrew Garbarino (R-NY-2)"
      ]
     },
     "execution_count": 4,
     "metadata": {},
     "output_type": "execute_result"
    }
   ],
   "source": [
    "legislators.head()"
   ]
  },
  {
   "cell_type": "code",
   "execution_count": 5,
   "id": "bd407b32",
   "metadata": {},
   "outputs": [
    {
     "data": {
      "text/html": [
       "<div>\n",
       "<style scoped>\n",
       "    .dataframe tbody tr th:only-of-type {\n",
       "        vertical-align: middle;\n",
       "    }\n",
       "\n",
       "    .dataframe tbody tr th {\n",
       "        vertical-align: top;\n",
       "    }\n",
       "\n",
       "    .dataframe thead th {\n",
       "        text-align: right;\n",
       "    }\n",
       "</style>\n",
       "<table border=\"1\" class=\"dataframe\">\n",
       "  <thead>\n",
       "    <tr style=\"text-align: right;\">\n",
       "      <th></th>\n",
       "      <th>id</th>\n",
       "      <th>title</th>\n",
       "      <th>sponsor_id</th>\n",
       "    </tr>\n",
       "  </thead>\n",
       "  <tbody>\n",
       "    <tr>\n",
       "      <th>0</th>\n",
       "      <td>2952375</td>\n",
       "      <td>H.R. 5376: Build Back Better Act</td>\n",
       "      <td>412211</td>\n",
       "    </tr>\n",
       "    <tr>\n",
       "      <th>1</th>\n",
       "      <td>2900994</td>\n",
       "      <td>H.R. 3684: Infrastructure Investment and Jobs Act</td>\n",
       "      <td>400100</td>\n",
       "    </tr>\n",
       "  </tbody>\n",
       "</table>\n",
       "</div>"
      ],
      "text/plain": [
       "        id                                              title  sponsor_id\n",
       "0  2952375                   H.R. 5376: Build Back Better Act      412211\n",
       "1  2900994  H.R. 3684: Infrastructure Investment and Jobs Act      400100"
      ]
     },
     "execution_count": 5,
     "metadata": {},
     "output_type": "execute_result"
    }
   ],
   "source": [
    "bills.head()"
   ]
  },
  {
   "cell_type": "code",
   "execution_count": 95,
   "id": "7f6abefe",
   "metadata": {},
   "outputs": [
    {
     "data": {
      "text/html": [
       "<div>\n",
       "<style scoped>\n",
       "    .dataframe tbody tr th:only-of-type {\n",
       "        vertical-align: middle;\n",
       "    }\n",
       "\n",
       "    .dataframe tbody tr th {\n",
       "        vertical-align: top;\n",
       "    }\n",
       "\n",
       "    .dataframe thead th {\n",
       "        text-align: right;\n",
       "    }\n",
       "</style>\n",
       "<table border=\"1\" class=\"dataframe\">\n",
       "  <thead>\n",
       "    <tr style=\"text-align: right;\">\n",
       "      <th></th>\n",
       "      <th>id</th>\n",
       "      <th>bill_id</th>\n",
       "    </tr>\n",
       "  </thead>\n",
       "  <tbody>\n",
       "    <tr>\n",
       "      <th>0</th>\n",
       "      <td>3314452</td>\n",
       "      <td>2900994</td>\n",
       "    </tr>\n",
       "    <tr>\n",
       "      <th>1</th>\n",
       "      <td>3321166</td>\n",
       "      <td>2952375</td>\n",
       "    </tr>\n",
       "  </tbody>\n",
       "</table>\n",
       "</div>"
      ],
      "text/plain": [
       "        id  bill_id\n",
       "0  3314452  2900994\n",
       "1  3321166  2952375"
      ]
     },
     "execution_count": 95,
     "metadata": {},
     "output_type": "execute_result"
    }
   ],
   "source": [
    "votes.head()"
   ]
  },
  {
   "cell_type": "code",
   "execution_count": 96,
   "id": "945590e1",
   "metadata": {},
   "outputs": [
    {
     "data": {
      "text/html": [
       "<div>\n",
       "<style scoped>\n",
       "    .dataframe tbody tr th:only-of-type {\n",
       "        vertical-align: middle;\n",
       "    }\n",
       "\n",
       "    .dataframe tbody tr th {\n",
       "        vertical-align: top;\n",
       "    }\n",
       "\n",
       "    .dataframe thead th {\n",
       "        text-align: right;\n",
       "    }\n",
       "</style>\n",
       "<table border=\"1\" class=\"dataframe\">\n",
       "  <thead>\n",
       "    <tr style=\"text-align: right;\">\n",
       "      <th></th>\n",
       "      <th>id</th>\n",
       "      <th>legislator_id</th>\n",
       "      <th>vote_id</th>\n",
       "      <th>vote_type</th>\n",
       "    </tr>\n",
       "  </thead>\n",
       "  <tbody>\n",
       "    <tr>\n",
       "      <th>0</th>\n",
       "      <td>92516784</td>\n",
       "      <td>400440</td>\n",
       "      <td>3321166</td>\n",
       "      <td>2</td>\n",
       "    </tr>\n",
       "    <tr>\n",
       "      <th>1</th>\n",
       "      <td>92516770</td>\n",
       "      <td>17941</td>\n",
       "      <td>3321166</td>\n",
       "      <td>2</td>\n",
       "    </tr>\n",
       "    <tr>\n",
       "      <th>2</th>\n",
       "      <td>92516768</td>\n",
       "      <td>400414</td>\n",
       "      <td>3321166</td>\n",
       "      <td>2</td>\n",
       "    </tr>\n",
       "    <tr>\n",
       "      <th>3</th>\n",
       "      <td>92516753</td>\n",
       "      <td>400380</td>\n",
       "      <td>3321166</td>\n",
       "      <td>2</td>\n",
       "    </tr>\n",
       "    <tr>\n",
       "      <th>4</th>\n",
       "      <td>92516734</td>\n",
       "      <td>412393</td>\n",
       "      <td>3321166</td>\n",
       "      <td>2</td>\n",
       "    </tr>\n",
       "  </tbody>\n",
       "</table>\n",
       "</div>"
      ],
      "text/plain": [
       "         id  legislator_id  vote_id  vote_type\n",
       "0  92516784         400440  3321166          2\n",
       "1  92516770          17941  3321166          2\n",
       "2  92516768         400414  3321166          2\n",
       "3  92516753         400380  3321166          2\n",
       "4  92516734         412393  3321166          2"
      ]
     },
     "execution_count": 96,
     "metadata": {},
     "output_type": "execute_result"
    }
   ],
   "source": [
    "vote_results.head()"
   ]
  },
  {
   "cell_type": "code",
   "execution_count": 110,
   "id": "7353a495",
   "metadata": {},
   "outputs": [],
   "source": [
    "def get_sponsor_name(sponsor_id):\n",
    "    if sponsor_id in legislators[\"id\"].values:\n",
    "        return legislators[legislators[\"id\"] == sponsor_id].iloc[0][\"name\"]\n",
    "    return \"Unknown\"\n",
    "\n",
    "bills_votes = bills.copy()\n",
    "bills_votes[\"primary_sponsor\"] = bills_votes[\"sponsor_id\"].apply(get_sponsor_name)\n",
    "del bills_votes[\"sponsor_id\"]\n"
   ]
  },
  {
   "cell_type": "code",
   "execution_count": 111,
   "id": "c77e66af",
   "metadata": {},
   "outputs": [],
   "source": [
    "suported = []\n",
    "opposed = []\n",
    "sponsor_name = []\n",
    "\n",
    "for bill_id in bills_votes[\"id\"]:\n",
    "    if bill_id not in votes[\"bill_id\"].values:\n",
    "        continue\n",
    "        \n",
    "        \n",
    "    vote_id = votes[votes[\"bill_id\"] == bill_id].iloc[0][\"id\"]\n",
    "\n",
    "    same_vote_id = vote_results[\"vote_id\"] == vote_id\n",
    "    is_supporting = vote_results[\"vote_type\"] == SUPPORT_VOTE_FLAG\n",
    "    is_opposing = vote_results[\"vote_type\"] == OPPOSE_VOTE_FLAG\n",
    "    \n",
    "    support_votes = vote_results[same_vote_id & is_supporting]\n",
    "    oppose_votes = vote_results[same_vote_id & is_opposing]  \n",
    "    \n",
    "    suported.append(len(support_votes))\n",
    "    opposed.append(len(oppose_votes))\n",
    "    \n",
    "bills_votes[\"supporter_count\"] = suported\n",
    "bills_votes[\"opposer_count\"] = opposed"
   ]
  },
  {
   "cell_type": "code",
   "execution_count": 112,
   "id": "234ff2ee",
   "metadata": {},
   "outputs": [
    {
     "data": {
      "text/html": [
       "<div>\n",
       "<style scoped>\n",
       "    .dataframe tbody tr th:only-of-type {\n",
       "        vertical-align: middle;\n",
       "    }\n",
       "\n",
       "    .dataframe tbody tr th {\n",
       "        vertical-align: top;\n",
       "    }\n",
       "\n",
       "    .dataframe thead th {\n",
       "        text-align: right;\n",
       "    }\n",
       "</style>\n",
       "<table border=\"1\" class=\"dataframe\">\n",
       "  <thead>\n",
       "    <tr style=\"text-align: right;\">\n",
       "      <th></th>\n",
       "      <th>id</th>\n",
       "      <th>title</th>\n",
       "      <th>primary_sponsor</th>\n",
       "      <th>supporter_count</th>\n",
       "      <th>opposer_count</th>\n",
       "    </tr>\n",
       "  </thead>\n",
       "  <tbody>\n",
       "    <tr>\n",
       "      <th>0</th>\n",
       "      <td>2952375</td>\n",
       "      <td>H.R. 5376: Build Back Better Act</td>\n",
       "      <td>Rep. John Yarmuth (D-KY-3)</td>\n",
       "      <td>6</td>\n",
       "      <td>13</td>\n",
       "    </tr>\n",
       "    <tr>\n",
       "      <th>1</th>\n",
       "      <td>2900994</td>\n",
       "      <td>H.R. 3684: Infrastructure Investment and Jobs Act</td>\n",
       "      <td>Unknown</td>\n",
       "      <td>13</td>\n",
       "      <td>6</td>\n",
       "    </tr>\n",
       "  </tbody>\n",
       "</table>\n",
       "</div>"
      ],
      "text/plain": [
       "        id                                              title  \\\n",
       "0  2952375                   H.R. 5376: Build Back Better Act   \n",
       "1  2900994  H.R. 3684: Infrastructure Investment and Jobs Act   \n",
       "\n",
       "              primary_sponsor  supporter_count  opposer_count  \n",
       "0  Rep. John Yarmuth (D-KY-3)                6             13  \n",
       "1                     Unknown               13              6  "
      ]
     },
     "execution_count": 112,
     "metadata": {},
     "output_type": "execute_result"
    }
   ],
   "source": [
    "bills_votes.head()"
   ]
  }
 ],
 "metadata": {
  "kernelspec": {
   "display_name": "Python 3 (ipykernel)",
   "language": "python",
   "name": "python3"
  },
  "language_info": {
   "codemirror_mode": {
    "name": "ipython",
    "version": 3
   },
   "file_extension": ".py",
   "mimetype": "text/x-python",
   "name": "python",
   "nbconvert_exporter": "python",
   "pygments_lexer": "ipython3",
   "version": "3.8.16"
  }
 },
 "nbformat": 4,
 "nbformat_minor": 5
}
